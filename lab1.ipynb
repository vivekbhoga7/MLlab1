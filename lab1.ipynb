{
 "cells": [
  {
   "cell_type": "code",
   "execution_count": 9,
   "metadata": {},
   "outputs": [
    {
     "name": "stdout",
     "output_type": "stream",
     "text": [
      "The no of pairs= 2\n"
     ]
    }
   ],
   "source": [
    "def count(list, sum):\n",
    "    length = len(list)\n",
    "    count = 0\n",
    "    #Itration from each element two times and return the count value\n",
    "    for i in range(length):\n",
    "        for j in range(i + 1, length):\n",
    "            if list[i] + list[j] == sum:\n",
    "                count=count+1\n",
    "    return count\n",
    "#give the list values and the sum\n",
    "list = [2, 7, 4, 1, 3, 6]\n",
    "sum = 10\n",
    "result = count(list, sum)\n",
    "#printing the result\n",
    "print('The no of pairs:',result)"
   ]
  },
  {
   "cell_type": "code",
   "execution_count": 12,
   "metadata": {},
   "outputs": [
    {
     "name": "stdout",
     "output_type": "stream",
     "text": [
      "The range between the mimimum and maximum is: 6\n"
     ]
    }
   ],
   "source": [
    "#checking if there are less value than 3\n",
    "def range(list):\n",
    "    if len(list) <= 3:\n",
    "        return \"Range caluclation is not possible because of less values\"\n",
    "    else:\n",
    "        #calucalting the min and max\n",
    "        minimum = min(list)\n",
    "        maximum = max(list)\n",
    "        return maximum - minimum\n",
    "#giving the list values\n",
    "list = [5, 8, 3, 2, 7]\n",
    "#calling the function\n",
    "result = range(list)\n",
    "#printing the result\n",
    "print(f\"The range between the mimimum and maximum is: {result}\")"
   ]
  },
  {
   "cell_type": "code",
   "execution_count": 4,
   "metadata": {},
   "outputs": [
    {
     "name": "stdout",
     "output_type": "stream",
     "text": [
      "[[109, 117], [234, 226]]\n"
     ]
    }
   ],
   "source": [
    "def matrixmultiplication(matrix1, matrix2):\n",
    "    #caluclate and Iterate over each row i in matrix1 and each column j in matrix2\n",
    "    # Calculate the sum of products of corresponding elements for each i, j pair\n",
    "    result = [\n",
    "        [sum(matrix1[i][k] * matrix2[k][j] for k in range(len(matrix2[0])))\n",
    "         for j in range(len(matrix2[0]))]\n",
    "        for i in range(len(matrix1))\n",
    "    ]\n",
    "    return result\n",
    "\n",
    "def matrixpower(matrix, m):\n",
    "    if m == 0:\n",
    "        #a square matrix A and a positive integer m as arguments and returns A*m\n",
    "        return [[int(i == j) for j in range(len(matrix))] for i in range(len(matrix))]\n",
    "\n",
    "    result = matrix\n",
    "    for a in range(m - 1):\n",
    "        result = matrixmultiplication(result, matrix)\n",
    "\n",
    "    return result\n",
    "\n",
    "A = [[1, 3], [6, 4]]\n",
    "power_m = 3\n",
    "\n",
    "result_matrix = matrixpower(A, power_m)\n",
    "print(result_matrix)"
   ]
  },
  {
   "cell_type": "code",
   "execution_count": 6,
   "metadata": {},
   "outputs": [
    {
     "name": "stdout",
     "output_type": "stream",
     "text": [
      "The maximum occurring character is 'l' with times of 2\n"
     ]
    }
   ],
   "source": [
    "# Counting the occurrences of each character in a word anfd storing it in empty dictionry and returning thee dictionary\n",
    "def Wordoccorance(word):\n",
    "    dict = {}\n",
    "    # Checking the character is already in the dictionary If yes, increment the count \n",
    "    for character in word:\n",
    "        if character in dict:\n",
    "            dict[character] += 1\n",
    "        else:\n",
    "            #If not, add the character to the dictionary with count 1\n",
    "            dict[character] = 1\n",
    "    return dict\n",
    "#finding the character that is maximum occurrered\n",
    "def Maximumrepeated(dict):\n",
    "    maximumValue = 0\n",
    "    for key, value in dict.items():\n",
    "        #if another count is greater than the maximum count the repalcing thre maximum count and returning the values\n",
    "        if value > maximumValue:\n",
    "            maximumValue = value\n",
    "            maximumKey = key\n",
    "    return maximumValue, maximumKey\n",
    "#asking for user input and printing it\n",
    "word = input(\"Enter the word: \")\n",
    "maximum_count, maximum_char = Maximumrepeated(Wordoccorance(word))\n",
    "print(f\"The maximum occurring character is '{maximum_char}' with times of {maximum_count}\")"
   ]
  }
 ],
 "metadata": {
  "kernelspec": {
   "display_name": "Python 3",
   "language": "python",
   "name": "python3"
  },
  "language_info": {
   "codemirror_mode": {
    "name": "ipython",
    "version": 3
   },
   "file_extension": ".py",
   "mimetype": "text/x-python",
   "name": "python",
   "nbconvert_exporter": "python",
   "pygments_lexer": "ipython3",
   "version": "3.11.5"
  }
 },
 "nbformat": 4,
 "nbformat_minor": 2
}
